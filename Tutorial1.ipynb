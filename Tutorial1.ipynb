{
 "metadata": {
  "name": "",
  "signature": "sha256:e6c48b8082966d7a2ee5dce85499dac9f20d30a3969c89b435c729814d5961f7"
 },
 "nbformat": 3,
 "nbformat_minor": 0,
 "worksheets": [
  {
   "cells": [
    {
     "cell_type": "heading",
     "level": 1,
     "metadata": {},
     "source": [
      "Simple Notebook"
     ]
    },
    {
     "cell_type": "markdown",
     "metadata": {},
     "source": [
      "This is some **markdown** text with $LaTex$"
     ]
    },
    {
     "cell_type": "code",
     "collapsed": false,
     "input": [
      "%pylab inline"
     ],
     "language": "python",
     "metadata": {},
     "outputs": [
      {
       "output_type": "stream",
       "stream": "stdout",
       "text": [
        "Populating the interactive namespace from numpy and matplotlib\n"
       ]
      }
     ],
     "prompt_number": 1
    },
    {
     "cell_type": "code",
     "collapsed": false,
     "input": [
      "x = linspace(0,10)\n",
      "y = sin(x)\n",
      "plot(x,y)"
     ],
     "language": "python",
     "metadata": {},
     "outputs": [
      {
       "metadata": {},
       "output_type": "pyout",
       "prompt_number": 3,
       "text": [
        "[<matplotlib.lines.Line2D at 0x10505ae90>]"
       ]
      },
      {
       "metadata": {},
       "output_type": "display_data",
       "png": "[encoded data removed]",
       "text": [
        "<matplotlib.figure.Figure at 0x105001dd0>"
       ]
      }
     ],
     "prompt_number": 3
    },
    {
     "cell_type": "code",
     "collapsed": false,
     "input": [
      "a = rand(1,9)\n",
      "b = rand(1,9\n",
      "        )\n",
      "print b\n",
      "print a\n",
      "print a + b"
     ],
     "language": "python",
     "metadata": {},
     "outputs": [
      {
       "output_type": "stream",
       "stream": "stdout",
       "text": [
        "[[ 0.85286636  0.5650652   0.90283264  0.92473817  0.66044721  0.22968315\n",
        "   0.90330749  0.56089353  0.5904282 ]]\n",
        "[[ 0.51738604  0.03727663  0.48774698  0.3844481   0.73011722  0.65326334\n",
        "   0.47981531  0.59394581  0.19206508]]\n",
        "[[ 1.3702524   0.60234183  1.39057961  1.30918627  1.39056443  0.88294649\n",
        "   1.3831228   1.15483934  0.78249328]]\n"
       ]
      }
     ],
     "prompt_number": 7
    },
    {
     "cell_type": "code",
     "collapsed": false,
     "input": [
      "%latex"
     ],
     "language": "python",
     "metadata": {},
     "outputs": [
      {
       "output_type": "stream",
       "stream": "stderr",
       "text": [
        "ERROR: Line magic function `%latex` not found (But cell magic `%%latex` exists, did you mean that instead?).\n"
       ]
      }
     ],
     "prompt_number": 1
    },
    {
     "cell_type": "code",
     "collapsed": false,
     "input": [
      "%%latex\n"
     ],
     "language": "python",
     "metadata": {},
     "outputs": [
      {
       "output_type": "stream",
       "stream": "stderr",
       "text": [
        "UsageError: %%latex is a cell magic, but the cell body is empty."
       ]
      }
     ],
     "prompt_number": 2
    },
    {
     "cell_type": "code",
     "collapsed": false,
     "input": [
      "%%latex\n",
      "$q(r) = Q * r^3 / a^3$"
     ],
     "language": "python",
     "metadata": {},
     "outputs": [
      {
       "latex": [
        "$q(r) = Q * r^3 / a^3$"
       ],
       "metadata": {},
       "output_type": "display_data",
       "text": [
        "<IPython.core.display.Latex at 0x109ad9990>"
       ]
      }
     ],
     "prompt_number": 4
    },
    {
     "cell_type": "code",
     "collapsed": false,
     "input": [
      "%%latex\n",
      "$E(r) = 1 / (4*\\pi * \\epsilon) * Q / (r^2)$"
     ],
     "language": "python",
     "metadata": {},
     "outputs": [
      {
       "latex": [
        "$E(r) = 1 / (4*\\pi * \\epsilon) * Q / (r^2)$"
       ],
       "metadata": {},
       "output_type": "display_data",
       "text": [
        "<IPython.core.display.Latex at 0x109acd850>"
       ]
      }
     ],
     "prompt_number": 8
    },
    {
     "cell_type": "code",
     "collapsed": false,
     "input": [
      "%%latex"
     ],
     "language": "python",
     "metadata": {},
     "outputs": []
    }
   ],
   "metadata": {}
  }
 ]
}