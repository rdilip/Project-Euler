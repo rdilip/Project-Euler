{
 "metadata": {
  "name": "",
  "signature": "sha256:a791d0e8433bcbc72c056c8ca599a411c5e54bcd247c06fb13d7df848f193a6d"
 },
 "nbformat": 3,
 "nbformat_minor": 0,
 "worksheets": [
  {
   "cells": [
    {
     "cell_type": "heading",
     "level": 1,
     "metadata": {},
     "source": [
      "Project Euler"
     ]
    },
    {
     "cell_type": "heading",
     "level": 2,
     "metadata": {},
     "source": [
      "Problem 1"
     ]
    },
    {
     "cell_type": "code",
     "collapsed": false,
     "input": [
      "total = 0\n",
      "for i in xrange(1, 1000):\n",
      "\tif i % 3 == 0:\n",
      "\t\ttotal = total + i\n",
      "\telif i % 5 == 0 and i%3 != 0:\n",
      "\t\ttotal = total + i\n",
      "print total"
     ],
     "language": "python",
     "metadata": {},
     "outputs": [
      {
       "output_type": "stream",
       "stream": "stdout",
       "text": [
        "233168\n"
       ]
      }
     ],
     "prompt_number": 53
    },
    {
     "cell_type": "markdown",
     "metadata": {},
     "source": [
      "This problem is fairly straightforward. For all numbers between 1 and 1000, we check first if the number is divisible by 3; if it is, we add it to the total. If not, we check if it's divisble by 5, and if so, we add it to the total. This structure prevents double counting of the numbers divisible by 15 (or divisble by both 3 and 5)"
     ]
    },
    {
     "cell_type": "heading",
     "level": 2,
     "metadata": {},
     "source": [
      "Problem 2"
     ]
    },
    {
     "cell_type": "code",
     "collapsed": false,
     "input": [
      "%load problem2"
     ],
     "language": "python",
     "metadata": {},
     "outputs": [],
     "prompt_number": 63
    },
    {
     "cell_type": "code",
     "collapsed": false,
     "input": [
      "import time\n",
      "def fib():\n",
      "\ttemp,res = 1,2\n",
      "\twhile True:\n",
      "\t\tyield temp\n",
      "\t\ttemp,res = res,res + temp\n",
      "def PEproblem1(limit):\n",
      "\tx = fib()\n",
      "\ty = x.next()\n",
      "\tresult = 0\n",
      "\twhile y < limit:\n",
      "\t\tif y % 2 == 0:\n",
      "\t\t\tresult += y\n",
      "\t\ty = x.next()\n",
      "\treturn(result)\n",
      "start = time.time()\n",
      "result = PEproblem1(4000000)\n",
      "elapsed = time.time() - start\n",
      "print \"result %s returned after %s seconds\" % (result,elapsed)\n"
     ],
     "language": "python",
     "metadata": {},
     "outputs": []
    },
    {
     "cell_type": "code",
     "collapsed": false,
     "input": [],
     "language": "python",
     "metadata": {},
     "outputs": []
    },
    {
     "cell_type": "markdown",
     "metadata": {},
     "source": [
      "First, we construct a generator, to continually return Fibonacci numbers. In a while loop, we accept Fibonacci numbers from the generator and check if they are even. If they are, we add them to a running sum and call the next number."
     ]
    },
    {
     "cell_type": "heading",
     "level": 2,
     "metadata": {},
     "source": [
      "Problem 3"
     ]
    },
    {
     "cell_type": "code",
     "collapsed": false,
     "input": [
      "%load problem3"
     ],
     "language": "python",
     "metadata": {},
     "outputs": []
    },
    {
     "cell_type": "code",
     "collapsed": false,
     "input": [
      "myVar = 10\n",
      "print myVar"
     ],
     "language": "python",
     "metadata": {},
     "outputs": []
    },
    {
     "cell_type": "code",
     "collapsed": false,
     "input": [],
     "language": "python",
     "metadata": {},
     "outputs": []
    },
    {
     "cell_type": "code",
     "collapsed": false,
     "input": [
      "%load problem4"
     ],
     "language": "python",
     "metadata": {},
     "outputs": [],
     "prompt_number": 4
    },
    {
     "cell_type": "code",
     "collapsed": false,
     "input": [
      "def isPal(num):\n",
      "\tif num == int(str(num)[::-1]):\n",
      "\t\treturn True\n",
      "\treturn False\n",
      "largest_pal = 0\n",
      "for a in xrange(100,1000):\n",
      "\tfor b in xrange(100,1000):\n",
      "\t\tif isPal(a*b):\n",
      "\t\t\tif (a*b) > largest_pal:\n",
      "\t\t\t\tlargest_pal = a*b\n",
      "print largest_pal"
     ],
     "language": "python",
     "metadata": {},
     "outputs": []
    },
    {
     "cell_type": "code",
     "collapsed": false,
     "input": [
      "%load problem5"
     ],
     "language": "python",
     "metadata": {},
     "outputs": [],
     "prompt_number": 5
    },
    {
     "cell_type": "code",
     "collapsed": false,
     "input": [
      "def gcd(a, b):\t\n",
      "\twhile b != 0:\n",
      "\t\t(a, b) = (b, a%b)\n",
      "\treturn a \n",
      "def lcm(a,b):\n",
      "\treturn a * b / (gcd(a,b))\n",
      "def lcmm(*args):\n",
      "\treturn reduce(lcm, args)\n",
      "my_list = []\n",
      "for i in xrange(1,21):\n",
      "\tmy_list.append(i)\n",
      "print lcmm(*my_list)\n"
     ],
     "language": "python",
     "metadata": {},
     "outputs": []
    },
    {
     "cell_type": "code",
     "collapsed": false,
     "input": [
      "%load problem7"
     ],
     "language": "python",
     "metadata": {},
     "outputs": [],
     "prompt_number": 7
    },
    {
     "cell_type": "code",
     "collapsed": false,
     "input": [
      "def isprime(n):\n",
      "\tfor i in xrange(2,int(n**0.5)+1):\t\n",
      "\t\tif n % i == 0:\n",
      "\t\t\treturn False \n",
      "\treturn True \n",
      "count = 0\n",
      "num = 2 \n",
      "\n",
      "while count < 10001:\n",
      "\tif isprime(num):\n",
      "\t\tcount += 1\n",
      "\tnum += 1\n",
      "\n",
      "print num - 1\n"
     ],
     "language": "python",
     "metadata": {},
     "outputs": []
    },
    {
     "cell_type": "code",
     "collapsed": false,
     "input": [
      "%load problem8"
     ],
     "language": "python",
     "metadata": {},
     "outputs": [],
     "prompt_number": 8
    },
    {
     "cell_type": "code",
     "collapsed": false,
     "input": [
      "import os\n",
      "strnum = \"\"\n",
      "numlist = []\n",
      "path = \"/users/rohit/documents/code/project_euler\"\n",
      "os.chdir(path)\n",
      "with open(\"PEproblem8_INT.txt\") as num:\n",
      "\tfor line in num:\n",
      "\t\tstrnum += (line.rstrip(\"\\n\"))\n",
      "\t\tnumlist = list(strnum)\n",
      "\t\tnumlist = [int(i) for i in numlist]\n",
      "val = 0\n",
      "for i in xrange(0,len(numlist)-14):\n",
      "\tprod = reduce(lambda x, y: x*y, numlist[i:i+13])\n",
      "\tif prod > val:\n",
      "\t\tval = prod\n",
      "print val\n",
      "print numlist[len(numlist)-13:len(numlist)]\n"
     ],
     "language": "python",
     "metadata": {},
     "outputs": []
    },
    {
     "cell_type": "code",
     "collapsed": false,
     "input": [
      "%load problem10"
     ],
     "language": "python",
     "metadata": {},
     "outputs": [],
     "prompt_number": 9
    },
    {
     "cell_type": "code",
     "collapsed": false,
     "input": [
      "import time\n",
      "start = time.time()\n",
      "sieve = [True] * 2000000\n",
      "def mark(sieve, x):\n",
      "\tfor i in xrange(x+x, len(sieve), x):\n",
      "\t\tsieve[i] = False\n",
      "\n",
      "for i in xrange(2, int(len(sieve) ** 0.5) + 1):\n",
      "\tif sieve[i]:mark(sieve,i)\n",
      "\n",
      "print sum(i for i in xrange(2,len(sieve)) if sieve[i])\n",
      "end = time.time()\n",
      "print end - start\n"
     ],
     "language": "python",
     "metadata": {},
     "outputs": []
    },
    {
     "cell_type": "code",
     "collapsed": false,
     "input": [
      "%load problem11"
     ],
     "language": "python",
     "metadata": {},
     "outputs": [],
     "prompt_number": 10
    },
    {
     "cell_type": "code",
     "collapsed": false,
     "input": [
      "import os\n",
      "os.chdir(\"/users/rohit/documents/code/project_euler\")\n",
      "M = []\n",
      "with open(\"PEproblem11_INT.txt\") as num:\n",
      "\tfor line in num:\n",
      "\t\tnumtemp = [int(x) for x in line.rstrip(\"\\n\").split()]\n",
      "\t\tM.append(numtemp)\n",
      "max_prod = 0\n",
      "for i in xrange(0,17):\n",
      "\tfor j in xrange(0,20):\n",
      "\t\t#up down products\n",
      "\t\tprod = M[i][j] * M[i+1][j] * M[i+2][j] * M[i+3][j]\n",
      "\t\tif max_prod < prod:max_prod = prod\n",
      "\t\t#left right products\n",
      "\t\tprod = M[j][i] * M[j][i+1] * M[j][i+2] * M[j][i+3]\n",
      "\t\tif max_prod < prod:max_prod = prod\n",
      "\n",
      "for i in xrange(0,17):\n",
      "\tfor j in xrange(0,17):\n",
      "\t\t#diagonal\n",
      "\t\tprod = M[i][j] * M[i+1][j+1] * M[i+2][j+2] * M[i+3][j+3]\n",
      "\t\tif max_prod < prod:max_prod = prod\n",
      "for i in xrange(3,20):\n",
      "\tfor j in xrange(0,17):\n",
      "\t\tprod = M[i][j] * M[i-1][j+1] * M[i-2][j+2] * M[i-3][j+3]\n",
      "\t\tif max_prod < prod:max_prod = prod\n",
      "print max_prod\n"
     ],
     "language": "python",
     "metadata": {},
     "outputs": []
    },
    {
     "cell_type": "code",
     "collapsed": false,
     "input": [
      "%load problem12"
     ],
     "language": "python",
     "metadata": {},
     "outputs": [],
     "prompt_number": 11
    },
    {
     "cell_type": "code",
     "collapsed": false,
     "input": [
      "def divisors(num):\n",
      "\tresult = []\n",
      "\tfor i in xrange(1,int(num**0.5) + 1):\n",
      "\t\tif num % i == 0:result.extend((i, num / i))\n",
      "\treturn result\n",
      "counter = 1\n",
      "while counter:\n",
      "\tif len(divisors(counter * (counter + 1) / 2)) > 500:break\n",
      "\tcounter += 1\n",
      "print (counter * (counter + 1)) / 2\n"
     ],
     "language": "python",
     "metadata": {},
     "outputs": []
    },
    {
     "cell_type": "code",
     "collapsed": false,
     "input": [
      "%load problem13"
     ],
     "language": "python",
     "metadata": {},
     "outputs": [],
     "prompt_number": 12
    },
    {
     "cell_type": "code",
     "collapsed": false,
     "input": [
      "import os\n",
      "os.chdir(\"/Users/rohit/Documents/Code/project_euler\")\n",
      "M = []\n",
      "with open(\"PEproblem13_INT.txt\") as text:\n",
      "\tfor line in text:\n",
      "\t\tM.append(long(line.rstrip(\"\\n\")))\n",
      "print str(sum(M))[0:11]\n"
     ],
     "language": "python",
     "metadata": {},
     "outputs": []
    },
    {
     "cell_type": "code",
     "collapsed": false,
     "input": [
      "%load problem15"
     ],
     "language": "python",
     "metadata": {},
     "outputs": [],
     "prompt_number": 13
    },
    {
     "cell_type": "code",
     "collapsed": false,
     "input": [
      "import time\n",
      "start = time.time()\n",
      "def factorial(n):\n",
      "\tnum = 1\n",
      "\tfor i in xrange(1,n+1):num=num * i\n",
      "\treturn num\n",
      "print factorial(40) / (factorial(20) * factorial(20))\n",
      "end = time.time()\n",
      "print end - start\n"
     ],
     "language": "python",
     "metadata": {},
     "outputs": []
    },
    {
     "cell_type": "code",
     "collapsed": false,
     "input": [
      "%load problem16"
     ],
     "language": "python",
     "metadata": {},
     "outputs": [],
     "prompt_number": 14
    },
    {
     "cell_type": "code",
     "collapsed": false,
     "input": [
      "def power(a,b):\n",
      "\tnum = a\n",
      "\tfor i in xrange(2,b+1):\n",
      "\t\tnum = num * a\n",
      "\treturn num\n",
      "def digitSum(num):\n",
      "\treturn sum([int(i) for i in list(str(num))])\n",
      "print power(2,1000)\n",
      "print digitSum(power(2,1000))\n"
     ],
     "language": "python",
     "metadata": {},
     "outputs": []
    },
    {
     "cell_type": "code",
     "collapsed": false,
     "input": [
      "%load problem17"
     ],
     "language": "python",
     "metadata": {},
     "outputs": [],
     "prompt_number": 16
    },
    {
     "cell_type": "code",
     "collapsed": false,
     "input": [
      "import time\n",
      "numbers = [\"zero one two three four five six seven eight nine\".split()]\n",
      "irregular = \"ten eleven twelve thirteen fourteen fifteen sixteen seventeen eighteen nineteen\".split()\n",
      "numbers.append(\"twenty thirty forty fifty sixty seventy eighty ninety\".split())\n",
      "power = \"hundred thousand million billion trillion quadrillion quintillion sextillion septillion octillion nonillion decillion\".split()\n",
      "def num2letter(num):#works for all numbers less than 1000\n",
      "\tdiglen = len(str(num))\t\t\n",
      "\tif diglen == 1: \n",
      "\t\treturn numbers[0][num] #base case\n",
      "\telif diglen == 2 and num - (num % 10) == 10: \n",
      "\t\treturn irregular[(num % 10)]#accounting for 11-19 \"irregulars\"\n",
      "\telif diglen == 2 and num % 10 == 0:\n",
      "\t\treturn numbers[1][((num - (num % 10)) / 10) - 2]\n",
      "\telif diglen == 2:\n",
      "\t\treturn numbers[1][((num - (num % 10))/10) - 2] + \" \" + numbers[0][num % 10]\n",
      "\telif diglen == 3 and num % 100 == 0:\n",
      "\t\tdig = (num - (num % 10**(diglen - 1))) / (10**(diglen - 1))\n",
      "\t\tnum = num % (10**(diglen - 1))\n",
      "\t\treturn numbers[0][dig] + \" \" + power[diglen-3]\n",
      "#Recursively stripping the leading number and calling the function again\t\n",
      "\telif diglen == 3:\n",
      "\t\tdig = (num - (num % 10**(diglen - 1))) / (10**(diglen - 1))\n",
      "\t\tnum = num % (10**(diglen - 1))\n",
      "\t\treturn (numbers[0][dig] + \" \" + power[diglen-3] + \" and \" + num2letter(num))\n",
      "\n",
      "def num2letterX(num):#works for all numbers...I hope\n",
      "\t'''\n",
      "For this method, in accordance with general English language, I strip away the number in partitions of three. For example, the number 12,345,678, I initially only look at 12, then 345, then 678. I simply use the original num2letter program to convert those chunks, and add on the appropriate power of 10^3 (thousand, million, billion...). \n",
      "\t'''\n",
      "\tdiglen = len(str(num))\n",
      "\tdiglentemp = int((diglen-1) / 3) * 3 #This is used to find what power of 10^3 to add on\n",
      "\ttemp = (num - num % (10**(diglentemp))) / (10**(diglentemp)) #This takes only the numbers in the first partition\n",
      "\tif diglen > 3 and (num % 10**int(((diglen-1)/3)*3) == 0):#for the case of a number divisible by the next partition -- example, 342000 / 1000 = 0\n",
      "\t\tnum = num % (10**(diglentemp)) #This reduces the number to the next partition\n",
      "\t\treturn num2letter(temp) + \" \" + power[int(diglen / 3)]\n",
      "\telif diglen > 3: \n",
      "\t\tnum = num % (10**(diglentemp)) #This reduces the number to the next partition\n",
      "\t\treturn num2letter(temp) + \" \" + power[int(diglen / 3)] + \" \" + num2letterX(num)\n",
      "\telse:#Since the other method has the base case, this refers all digits less than three to that method\n",
      "\t\treturn num2letter(num)\n",
      "def PEproblem17(limit):\n",
      "\ttot = 0\n",
      "\tfor i in xrange(1,limit+1):\n",
      "\t\ttot += len(num2letterX(i).replace(' ',''))\n",
      "\treturn tot\n",
      "start = time.time()\n",
      "result = PEproblem17(1000)\n",
      "end = time.time()\n",
      "print \"The answer is %d , and that took %f seconds.\" % (result, end-start)\n"
     ],
     "language": "python",
     "metadata": {},
     "outputs": []
    },
    {
     "cell_type": "code",
     "collapsed": false,
     "input": [
      "%load problem18"
     ],
     "language": "python",
     "metadata": {},
     "outputs": [],
     "prompt_number": 17
    },
    {
     "cell_type": "code",
     "collapsed": false,
     "input": [
      "import os\n",
      "os.chdir(\"/Users/Rohit/Documents/Code/project_euler\")\n",
      "def text_input(file_name):\n",
      "\tM = []\n",
      "\twith open(file_name) as pyramid:\n",
      "\t\tfor line in pyramid:\n",
      "\t\t\tM.append([int(i) for i in line.split()])\n",
      "\treturn M\n",
      "\n",
      "# maxpath(M) returns the maximum path recursively, M must be a pyramid\n",
      "# double array\n",
      "def maxpath(M):\n",
      "\tif len(M) == 1:return M[0][0]\n",
      "\ttemp = M[len(M) - 2]\n",
      "\tfor i in xrange(0,len(temp)):\n",
      "\t\ttemp[i] = temp[i] + max(M[len(M) - 1][i],M[len(M) - 1][i + 1])\n",
      "\tM[len(M) - 2] = temp\n",
      "\tM.pop()\n",
      "\treturn maxpath(M)\n",
      "import time\n",
      "start = time.time()\n",
      "for i in xrange(0,5000):result =  maxpath(text_input(\"PEproblem18.txt\"))\n",
      "end = time.time()\n",
      "print \"The result is %d, and it took %f seconds to find that (5000 iterations).\" % (result, end - start)\n",
      "\n"
     ],
     "language": "python",
     "metadata": {},
     "outputs": []
    },
    {
     "cell_type": "code",
     "collapsed": false,
     "input": [
      "%load problem20"
     ],
     "language": "python",
     "metadata": {},
     "outputs": [],
     "prompt_number": 19
    },
    {
     "cell_type": "code",
     "collapsed": false,
     "input": [
      "def digitSum(num):\n",
      "\tnum_list = list(str(num))\n",
      "\tnum_list = [int(i) for i in num_list]\n",
      "\treturn sum(num_list)\n",
      "def factorial(num):\n",
      "\tif num == 0:return 1\n",
      "\telse:return num * factorial(num - 1)\n",
      "print digitSum(factorial(100))\n"
     ],
     "language": "python",
     "metadata": {},
     "outputs": []
    },
    {
     "cell_type": "code",
     "collapsed": false,
     "input": [
      "%load problem21"
     ],
     "language": "python",
     "metadata": {},
     "outputs": [],
     "prompt_number": 20
    },
    {
     "cell_type": "code",
     "collapsed": false,
     "input": [
      "import time\n",
      "start = time.time()\n",
      "def divisors(num):\n",
      "\tresult = []\n",
      "\tfor i in xrange(1, int(num**0.5) + 1):\n",
      "\t\t if num % i == 0: result.extend([i,num / i])\n",
      "\treturn result\n",
      "def propSum(num):\n",
      "\tresult = [i for i in divisors(num)]\n",
      "\tresult.remove(num)\n",
      "\treturn sum(result)\n",
      "sieve = [True] * 10000\n",
      "tot = 0\n",
      "for i in xrange(2,10001):\n",
      "\tif i == propSum(propSum(i)) and propSum(i) != i:\n",
      "\t\ttot+=i\n",
      "\t\tprint i\n",
      "print tot\t\n",
      "end = time.time()\n",
      "print end - start\n"
     ],
     "language": "python",
     "metadata": {},
     "outputs": []
    },
    {
     "cell_type": "code",
     "collapsed": false,
     "input": [
      "%load problem22"
     ],
     "language": "python",
     "metadata": {},
     "outputs": [],
     "prompt_number": 21
    },
    {
     "cell_type": "code",
     "collapsed": false,
     "input": [
      "import os\n",
      "import time\n",
      "from numba import jit\n",
      "starttime = time.time()\n",
      "os.chdir(\"/Users/rohit/Documents/code/project_euler\")\n",
      "@jit\n",
      "def a2n(x):\n",
      "\treturn ord(x) - 64\n",
      "@jit\n",
      "def numSum(name):\n",
      "\tsumList = [a2n(i) for i in list(name)]\n",
      "\treturn sum(sumList)\n",
      "M = []\n",
      "with open(\"PEproblem22.txt\") as text:\n",
      "\tfor line in text:M.extend(line.split(\",\"))\n",
      "M = [i[1:-1] for i in M]\n",
      "M = sorted(M)\n",
      "numM = [numSum(i)*(M.index(i) + 1) for i in M]\n",
      "print sum(numM)\n",
      "endtime = time.time()\n",
      "print endtime - starttime\n"
     ],
     "language": "python",
     "metadata": {},
     "outputs": []
    },
    {
     "cell_type": "code",
     "collapsed": false,
     "input": [
      "%load problem23"
     ],
     "language": "python",
     "metadata": {},
     "outputs": [],
     "prompt_number": 22
    },
    {
     "cell_type": "code",
     "collapsed": false,
     "input": [
      "import time\n",
      "def propDivisors(num):\n",
      "\tres = []\n",
      "\tfor i in xrange(1,int(num**0.5)+1):\n",
      "\t\tif num % i == 0:\n",
      "\t\t\tres.extend([i, num / i])\n",
      "\tres.remove(num)\n",
      "\treturn set(res)\n",
      "def sumList(numSet):\n",
      "\treturn reduce(lambda x, y:x+y, numSet)\n",
      "def ped(num):\n",
      "\treturn sumList(propDivisors(num))\n",
      "def abn(limit):\n",
      "\tabundant = []\n",
      "\ts = 0\n",
      "\tfor i in range(1, limit + 1):\n",
      "\t\tif ped(i) > i:\n",
      "\t\t\tabundant.append(i)\n",
      "\treturn set(abundant)\n",
      "def PEproblem23(limit):\n",
      "\tS = 0\n",
      "\tM = abn(limit)\n",
      "\tT = [True] * limit\n",
      "\tfor i in M:\n",
      "\t\tfor j in M:\n",
      "\t\t\tif i + j < limit:\n",
      "\t\t\t\tT[i+j] = False\n",
      "\tfor i in xrange(0,limit):\n",
      "\t\tif T[i]:\n",
      "\t\t\tS += i + 1\n",
      "\treturn S\n",
      "start = time.time()\n",
      "result = PEproblem23(28123)\n",
      "end = time.time()\n",
      "print \"The answer is %d and it took %f seconds to find it.\" % (result, end - start)\n"
     ],
     "language": "python",
     "metadata": {},
     "outputs": []
    },
    {
     "cell_type": "code",
     "collapsed": false,
     "input": [
      "%load problem25"
     ],
     "language": "python",
     "metadata": {},
     "outputs": [],
     "prompt_number": 24
    },
    {
     "cell_type": "code",
     "collapsed": false,
     "input": [
      "def fib():\n",
      "\ttemp,num = 0,1\n",
      "\twhile True:\n",
      "\t\tyield num\n",
      "\t\ttemp,num=num,temp+num\n",
      "x = fib()\n",
      "counter = 1\n",
      "y = x.next()\n",
      "while len(str(y)) < 1000:\n",
      "\ty = x.next()\n",
      "\tcounter += 1\n",
      "print counter\n"
     ],
     "language": "python",
     "metadata": {},
     "outputs": []
    },
    {
     "cell_type": "code",
     "collapsed": false,
     "input": [
      "%load problem26"
     ],
     "language": "python",
     "metadata": {},
     "outputs": [],
     "prompt_number": 25
    },
    {
     "cell_type": "code",
     "collapsed": false,
     "input": [
      "import time\n",
      "def cyclen(d):\n",
      "\tcount = 0\n",
      "\tnum = 1.0 / float(d)\n",
      "\tused = set([])\n",
      "\twhile True:\n",
      "\t\tnum = num*10\n",
      "\t\tif int(num) not in used:\n",
      "\t\t\tcount += 1\t\n",
      "\t\t\tused.add(int(num))\t\n",
      "\t\telse:break\t\n",
      "\t\tnum = float(str(num)[1::])\n",
      "\treturn count\n",
      "def longest_cycle(n):\n",
      "\tlongest = 0\n",
      "\tlong_d = 0\n",
      "\tfor i in xrange(1,n):\n",
      "\t\tif cyclen(i) > longest:\n",
      "\t\t\tlongest = cyclen(i)\n",
      "\t\t\tlong_d = i\n",
      "\treturn long_d\n",
      "start = time.time()\n",
      "print cyclen(6)\n",
      "print cyclen(7)\n",
      "res = longest_cycle(1000)\n",
      "end = time.time()\n",
      "print \"The result is %f, and it took %f seconds\" % (res, end-start)\n"
     ],
     "language": "python",
     "metadata": {},
     "outputs": []
    },
    {
     "cell_type": "code",
     "collapsed": false,
     "input": [
      "%load problem29"
     ],
     "language": "python",
     "metadata": {},
     "outputs": [],
     "prompt_number": 28
    },
    {
     "cell_type": "code",
     "collapsed": false,
     "input": [
      "res = set([])\n",
      "for a in xrange(2,101):\n",
      "\tfor b in xrange(2,101):\n",
      "\t\tres.add(a**b)\n",
      "print len(res)\n"
     ],
     "language": "python",
     "metadata": {},
     "outputs": [
      {
       "output_type": "stream",
       "stream": "stdout",
       "text": [
        "9183\n"
       ]
      }
     ],
     "prompt_number": 38
    },
    {
     "cell_type": "code",
     "collapsed": false,
     "input": [],
     "language": "python",
     "metadata": {},
     "outputs": []
    },
    {
     "cell_type": "code",
     "collapsed": false,
     "input": [
      "%load problem35"
     ],
     "language": "python",
     "metadata": {},
     "outputs": [],
     "prompt_number": 29
    },
    {
     "cell_type": "code",
     "collapsed": false,
     "input": [
      "def isPrime(num):\n",
      "\tif num == 1:\n",
      "\t\treturn False\n",
      "\tfor i in xrange(2,int(num**0.5) + 1):\n",
      "\t\tif num % i == 0:\n",
      "\t\t\treturn False\n",
      "\treturn True\n",
      "\n",
      "def numLen(num):\n",
      "\treturn len(str(num))\n",
      "\n",
      "def circular(num):\n",
      "\tif not isPrime(num):return False\n",
      "\ttemp = (num % 10) * (10**(numLen(num) - 1)) + (num - (num % 10)) / 10\n",
      "\twhile temp != num:\n",
      "\t\tif isPrime(temp):pass\n",
      "\t\telse:return False\n",
      "\t\ttemp = (temp % 10) * (10**(numLen(temp) - 1)) + (temp - (temp % 10)) / 10\n",
      "\treturn True\n",
      "\n",
      "def numCircPrime(limit):\n",
      "\tcount = 0\n",
      "\tfor i in xrange(1,limit+1):\n",
      "\t\tif circular(i):\n",
      "\t\t\tcount += 1\n",
      "\treturn count\n",
      "import time\n",
      "start = time.time()\n",
      "result = numCircPrime(1000000)\n",
      "end = time.time()\n",
      "\n",
      "print \"The answer is %d, and it took %f seconds\" % (result, end-start)\n"
     ],
     "language": "python",
     "metadata": {},
     "outputs": [
      {
       "output_type": "stream",
       "stream": "stdout",
       "text": [
        "The answer is 55, and it took 14.607084 seconds\n"
       ]
      }
     ],
     "prompt_number": 39
    },
    {
     "cell_type": "code",
     "collapsed": false,
     "input": [],
     "language": "python",
     "metadata": {},
     "outputs": []
    },
    {
     "cell_type": "code",
     "collapsed": false,
     "input": [
      "%load problem67"
     ],
     "language": "python",
     "metadata": {},
     "outputs": [],
     "prompt_number": 30
    },
    {
     "cell_type": "code",
     "collapsed": false,
     "input": [
      "%load problem30/problem30.pyx\n",
      "%load_ext cythonmagic\n"
     ],
     "language": "python",
     "metadata": {},
     "outputs": [
      {
       "ename": "SyntaxError",
       "evalue": "invalid syntax (<ipython-input-50-ba59e7f6afd8>, line 3)",
       "output_type": "pyerr",
       "traceback": [
        "\u001b[0;36m  File \u001b[0;32m\"<ipython-input-50-ba59e7f6afd8>\"\u001b[0;36m, line \u001b[0;32m3\u001b[0m\n\u001b[0;31m    %%writefile problem30.pyx\u001b[0m\n\u001b[0m    ^\u001b[0m\n\u001b[0;31mSyntaxError\u001b[0m\u001b[0;31m:\u001b[0m invalid syntax\n"
       ]
      }
     ],
     "prompt_number": 50
    },
    {
     "cell_type": "code",
     "collapsed": false,
     "input": [
      "%%writefile problem30.pyx\n",
      "%%cython_inline\n",
      "def cdigit_power(num):\n",
      "\tcdef int tot = 0\n",
      "\tcdef int temp = num\n",
      "\twhile temp >= 1:\n",
      "\t\ttot += (temp % 10)**5\n",
      "\t\ttemp = (temp - (temp % 10)) / 10\n",
      "\tif tot == num:return True\n",
      "\telse:return False\n",
      "def digit_power(num):\n",
      "\treturn cdigit_power(num)\n",
      "def csum_digit_power(int limit):\n",
      "\tcdef int tot = 0\n",
      "\tfor i in xrange(2,limit):\n",
      "\t\tif cdigit_power(i):\n",
      "\t\t\ttot += i\n",
      "\treturn tot\n",
      "def sum_digit_power(limit):\n",
      "\treturn csum_digit_power(limit)\n",
      "import time\n",
      "start = time.time()\n",
      "result = sum_digit_power(355000)\n",
      "elapsed = time.time() - start\n",
      "print \"The result is %d, and it took %f seconds\" % (result,elapsed)"
     ],
     "language": "python",
     "metadata": {},
     "outputs": [
      {
       "output_type": "stream",
       "stream": "stdout",
       "text": [
        "Writing problem30.pyx\n"
       ]
      }
     ],
     "prompt_number": 52
    },
    {
     "cell_type": "code",
     "collapsed": false,
     "input": [],
     "language": "python",
     "metadata": {},
     "outputs": []
    }
   ],
   "metadata": {}
  }
 ]
}